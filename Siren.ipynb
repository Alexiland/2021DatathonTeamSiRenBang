{
 "cells": [
  {
   "cell_type": "code",
   "execution_count": 1,
   "metadata": {},
   "outputs": [],
   "source": [
    "import numpy as np\n",
    "import pandas as pd\n",
    "import matplotlib.pyplot as plt\n",
    "import hashlib"
   ]
  },
  {
   "cell_type": "code",
   "execution_count": 4,
   "metadata": {},
   "outputs": [],
   "source": [
    "def load_bill_data():\n",
    "    path = \"bill_purchase_tran.csv\"\n",
    "    return pd.read_csv(path)"
   ]
  },
  {
   "cell_type": "code",
   "execution_count": 8,
   "metadata": {},
   "outputs": [
    {
     "data": {
      "text/html": [
       "<div>\n",
       "<style scoped>\n",
       "    .dataframe tbody tr th:only-of-type {\n",
       "        vertical-align: middle;\n",
       "    }\n",
       "\n",
       "    .dataframe tbody tr th {\n",
       "        vertical-align: top;\n",
       "    }\n",
       "\n",
       "    .dataframe thead th {\n",
       "        text-align: right;\n",
       "    }\n",
       "</style>\n",
       "<table border=\"1\" class=\"dataframe\">\n",
       "  <thead>\n",
       "    <tr style=\"text-align: right;\">\n",
       "      <th></th>\n",
       "      <th>OBJECTID</th>\n",
       "      <th>AGENCY</th>\n",
       "      <th>TRANSACTION_DATE</th>\n",
       "      <th>TRANSACTION_AMOUNT</th>\n",
       "      <th>VENDOR_NAME</th>\n",
       "      <th>VENDOR_STATE_PROVINCE</th>\n",
       "      <th>MCC_DESCRIPTION</th>\n",
       "    </tr>\n",
       "  </thead>\n",
       "  <tbody>\n",
       "    <tr>\n",
       "      <th>0</th>\n",
       "      <td>64</td>\n",
       "      <td>Department of Health</td>\n",
       "      <td>2009/01/06 05:00:00+00</td>\n",
       "      <td>4.75</td>\n",
       "      <td>NPDB NPDB-HIPDB.HRSA.G</td>\n",
       "      <td>VA</td>\n",
       "      <td>Government Services, Not Elsewhere Classified</td>\n",
       "    </tr>\n",
       "    <tr>\n",
       "      <th>1</th>\n",
       "      <td>65</td>\n",
       "      <td>Department of Health</td>\n",
       "      <td>2009/01/06 05:00:00+00</td>\n",
       "      <td>-464.48</td>\n",
       "      <td>PRESSTEK</td>\n",
       "      <td>NH</td>\n",
       "      <td>Commercial Photography, Art &amp; Graphics</td>\n",
       "    </tr>\n",
       "    <tr>\n",
       "      <th>2</th>\n",
       "      <td>66</td>\n",
       "      <td>Department of Health</td>\n",
       "      <td>2009/01/05 05:00:00+00</td>\n",
       "      <td>425.00</td>\n",
       "      <td>AMERICAN ASSOC00 OF 00</td>\n",
       "      <td>VA</td>\n",
       "      <td>Charitable And Social Service Organizations</td>\n",
       "    </tr>\n",
       "    <tr>\n",
       "      <th>3</th>\n",
       "      <td>67</td>\n",
       "      <td>Department of Health</td>\n",
       "      <td>2009/01/06 05:00:00+00</td>\n",
       "      <td>4.75</td>\n",
       "      <td>HIPDB NPDB-HIPDB.HRSA.</td>\n",
       "      <td>VA</td>\n",
       "      <td>Government Services, Not Elsewhere Classified</td>\n",
       "    </tr>\n",
       "    <tr>\n",
       "      <th>4</th>\n",
       "      <td>68</td>\n",
       "      <td>Department of Health</td>\n",
       "      <td>2009/01/06 05:00:00+00</td>\n",
       "      <td>4.75</td>\n",
       "      <td>HIPDB NPDB-HIPDB.HRSA.</td>\n",
       "      <td>VA</td>\n",
       "      <td>Government Services, Not Elsewhere Classified</td>\n",
       "    </tr>\n",
       "  </tbody>\n",
       "</table>\n",
       "</div>"
      ],
      "text/plain": [
       "   OBJECTID                AGENCY        TRANSACTION_DATE  TRANSACTION_AMOUNT  \\\n",
       "0        64  Department of Health  2009/01/06 05:00:00+00                4.75   \n",
       "1        65  Department of Health  2009/01/06 05:00:00+00             -464.48   \n",
       "2        66  Department of Health  2009/01/05 05:00:00+00              425.00   \n",
       "3        67  Department of Health  2009/01/06 05:00:00+00                4.75   \n",
       "4        68  Department of Health  2009/01/06 05:00:00+00                4.75   \n",
       "\n",
       "              VENDOR_NAME VENDOR_STATE_PROVINCE  \\\n",
       "0  NPDB NPDB-HIPDB.HRSA.G                    VA   \n",
       "1                PRESSTEK                    NH   \n",
       "2  AMERICAN ASSOC00 OF 00                    VA   \n",
       "3  HIPDB NPDB-HIPDB.HRSA.                    VA   \n",
       "4  HIPDB NPDB-HIPDB.HRSA.                    VA   \n",
       "\n",
       "                                 MCC_DESCRIPTION  \n",
       "0  Government Services, Not Elsewhere Classified  \n",
       "1         Commercial Photography, Art & Graphics  \n",
       "2    Charitable And Social Service Organizations  \n",
       "3  Government Services, Not Elsewhere Classified  \n",
       "4  Government Services, Not Elsewhere Classified  "
      ]
     },
     "execution_count": 8,
     "metadata": {},
     "output_type": "execute_result"
    }
   ],
   "source": [
    "bill = load_bill_data()\n",
    "bill.head()"
   ]
  },
  {
   "cell_type": "code",
   "execution_count": 18,
   "metadata": {},
   "outputs": [
    {
     "name": "stdout",
     "output_type": "stream",
     "text": [
      "<class 'pandas.core.frame.DataFrame'>\n",
      "RangeIndex: 433926 entries, 0 to 433925\n",
      "Data columns (total 7 columns):\n",
      "OBJECTID                 433926 non-null int64\n",
      "AGENCY                   433926 non-null object\n",
      "TRANSACTION_DATE         433926 non-null object\n",
      "TRANSACTION_AMOUNT       433926 non-null float64\n",
      "VENDOR_NAME              433887 non-null object\n",
      "VENDOR_STATE_PROVINCE    432623 non-null object\n",
      "MCC_DESCRIPTION          433908 non-null object\n",
      "dtypes: float64(1), int64(1), object(5)\n",
      "memory usage: 23.2+ MB\n"
     ]
    }
   ],
   "source": [
    "bill.info()"
   ]
  },
  {
   "cell_type": "code",
   "execution_count": 11,
   "metadata": {
    "collapsed": true
   },
   "outputs": [
    {
     "data": {
      "text/plain": [
       "District of Columbia Public Schools                      56852\n",
       "District Department of Transportation                    25480\n",
       "Fire & Emergency Medical Services                        23123\n",
       "Department on Disability Services                        20487\n",
       "Department of Health                                     17220\n",
       "Department of  Youth Rehabilitation Services             16001\n",
       "Metropolitan Police Department                           15814\n",
       "District Department of the Environment                   14819\n",
       "Department of Mental Health                              14530\n",
       "Office of the State Superintendent of Education          14492\n",
       "Department of Public Works                               14041\n",
       "Department of Human Services                             12538\n",
       "Office of the Chief Financial Officer                    10996\n",
       "DC Public Library                                        10494\n",
       "Department of Property Management                         9224\n",
       "University of the District of Columbia                    8580\n",
       "Child & Family Services Administration                    8463\n",
       "Office of the Mayor                                       7699\n",
       "Department of Parks & Recreation                          7556\n",
       "Office of the Attorney General                            5958\n",
       "Unknown New Agency                                        5849\n",
       "Department of Corrections                                 5653\n",
       "Department of Employment Services                         5557\n",
       "Department of Consumer & Regulatory Affairs               5436\n",
       "Office of the Inspector General                           4880\n",
       "Department of Motor Vehicles                              4564\n",
       "Department of Housing & Community Development             4255\n",
       "Office of Contracting & Procurement                       4173\n",
       "Office of the Tenant Advocate                             3502\n",
       "Office of the Chief Technology Officer                    3494\n",
       "                                                         ...  \n",
       "Office of Disability Rights                                977\n",
       "Public Employee Relations Board                            966\n",
       "Board of Real Property Assessment & Appeals                951\n",
       "Office of Cable TV                                         919\n",
       "DC National Guard                                          883\n",
       "DC Sentencing & Criminal Code Review Committee             843\n",
       "Commission of Judicial Disabilities & Tenure               762\n",
       "DC STATE BOARD OF EDUCATION                                745\n",
       "Office of Motion Pictures & Television                     711\n",
       "DEPUTY MAYOR FOR HEALTH & HUMAN SERVICES                   698\n",
       "Contract Appeals Board                                     687\n",
       "Department of Education                                    682\n",
       "DEPUTY MAYOR FOR PUBLIC SAFETY & JUSTICE                   664\n",
       "Office of Zoning                                           610\n",
       "Office of Employee Appeals                                 523\n",
       "NFP Hospital Corporation                                   517\n",
       "DC Office of Risk Management                               513\n",
       "Judicial Nomination Commission                             495\n",
       "Serve DC                                                   456\n",
       "Office of Justice Grants Administration                    447\n",
       "Office of Public Educational Facilities Modernization      300\n",
       "Office of Veterans Affairs                                 231\n",
       "Office of Community Affairs                                228\n",
       "Office of Victim Services                                  198\n",
       "Advisory Neighborhood Commission                           182\n",
       "DC Health Benefit Exchange                                 182\n",
       "Office of Partnership & Grant Services                     173\n",
       "OFFICE OF CAMPAIGN FINANCE                                 170\n",
       "Medical Liability Captive Insurance Agency                 105\n",
       "Disability Compensation Fund                                70\n",
       "Name: AGENCY, Length: 89, dtype: int64"
      ]
     },
     "execution_count": 11,
     "metadata": {},
     "output_type": "execute_result"
    }
   ],
   "source": [
    "bill[\"AGENCY\"].value_counts()"
   ]
  },
  {
   "cell_type": "code",
   "execution_count": 16,
   "metadata": {
    "collapsed": true
   },
   "outputs": [
    {
     "data": {
      "text/plain": [
       "STANDARD OFFICE SUPPLY      17075\n",
       "AMAZON MKTPLACE PMTS        14699\n",
       "METRO FARE AUTOLOAD         12622\n",
       "AMZN MKTP US                 9542\n",
       "AMAZON.COM                   8485\n",
       "METROPOLITAN OFFICE PR       7076\n",
       "OFFICE DEPOT #5910           6256\n",
       "THE HOME DEPOT #2583         4069\n",
       "CAPITAL SERVICES AND S       3843\n",
       "LASER ART INC                3260\n",
       "PAYPAL                       3202\n",
       "CAPITAL SERVICES & SUP       3071\n",
       "WW GRAINGER                  3046\n",
       "SENODA INC                   2538\n",
       "COMCAST OF WASHINGTON        2257\n",
       "AMERICAN AIRLINES            2249\n",
       "COMCAST                      2030\n",
       "SOUTHWEST                    1924\n",
       "STAPLES DIRECT               1876\n",
       "AMERICAN BUSINESS SUPP       1763\n",
       "DMI* DELL K-12/GOVT          1424\n",
       "STAPLES       00102186       1422\n",
       "CDW GOVERNMENT               1418\n",
       "NBA OFFICE PRODUCTS, I       1386\n",
       "AOP BUSINESS SERVICES        1301\n",
       "MVS INC                      1277\n",
       "THOMSON WEST*TCD             1277\n",
       "U.S. OFFICE SOLUTIONS        1246\n",
       "DC BAR                       1194\n",
       "THE HAMILTON GROUP           1189\n",
       "                            ...  \n",
       "FEDEX 794004698379              1\n",
       "ACBJMERCHANT1                   1\n",
       "STAPLS7086409988000001          1\n",
       "FLAVORS OF ITALY BIQPS          1\n",
       "SQ     *SQ *SALT FLATS          1\n",
       "AMAZON.COM*E058P3E73            1\n",
       "AMAZON.COM*7F8KU89J3            1\n",
       "AIRTRANAI 33274131275254        1\n",
       "IEEE PES PLAIN TALK             1\n",
       "FACEBK PAM4NDEL52               1\n",
       "AMAZON.COM*MT5112XQ0            1\n",
       "WORDPRESS L0R65F0ANF            1\n",
       "PAYPAL *BABACGMS                1\n",
       "BESTBUYCOM788693004122          1\n",
       "FEDEX 90557207                  1\n",
       "AMAZON.COM*1I89F0CE3            1\n",
       "SHIELDS COMPANY                 1\n",
       "AIRTRANAI 33200861560600        1\n",
       "THE STUDIO THEATRE              1\n",
       "TEDS BULLETIN                   1\n",
       "AMAZON.COM*YY62M1ZX3            1\n",
       "IN *CAPITOL MOSQUITO C          1\n",
       "FEDEX 16255633                  1\n",
       "OFFICEMAX/DEPOT 6639            1\n",
       "FEDEX 798586386755              1\n",
       "AMTRAK .CO1688258091728         1\n",
       "ROSS STORES #2078               1\n",
       "AMTRAK .CO0271050515722         1\n",
       "EASTERS LOCK & ACCESS           1\n",
       "USAIRWAY  03723893403683        1\n",
       "Name: VENDOR_NAME, Length: 55558, dtype: int64"
      ]
     },
     "execution_count": 16,
     "metadata": {},
     "output_type": "execute_result"
    }
   ],
   "source": [
    "bill[\"VENDOR_NAME\"].value_counts()"
   ]
  },
  {
   "cell_type": "code",
   "execution_count": 12,
   "metadata": {
    "collapsed": true
   },
   "outputs": [
    {
     "data": {
      "text/plain": [
       "DC     152192\n",
       "MD      54022\n",
       "WA      41166\n",
       "CA      30442\n",
       "VA      23184\n",
       "TX      14160\n",
       "IL      13715\n",
       "PA      12998\n",
       "NY       9010\n",
       "GA       7421\n",
       "MA       7112\n",
       "TN       7010\n",
       "FL       6536\n",
       "MN       5403\n",
       "OH       5260\n",
       "NJ       5012\n",
       "WI       4109\n",
       "CT       3960\n",
       "NC       3242\n",
       "MO       2702\n",
       "CO       2365\n",
       "KS       1883\n",
       "AZ       1875\n",
       "MI       1602\n",
       "NV       1602\n",
       "UT       1403\n",
       "IN       1347\n",
       "KY       1280\n",
       "NE       1141\n",
       "OR       1002\n",
       "        ...  \n",
       "ARE         2\n",
       "D           2\n",
       "VIR         2\n",
       "QLD         2\n",
       "ILS         2\n",
       "CN          2\n",
       "NB          2\n",
       "BEI         2\n",
       "VA          2\n",
       "TX          2\n",
       "NJ          1\n",
       "IND         1\n",
       "RUS         1\n",
       "ES          1\n",
       "IO          1\n",
       "PE          1\n",
       "ISL         1\n",
       "69          1\n",
       "VN          1\n",
       "BGR         1\n",
       "ZH          1\n",
       "MD          1\n",
       "PAN         1\n",
       "ITA         1\n",
       "JO          1\n",
       "280         1\n",
       "SVN         1\n",
       "C           1\n",
       "MN          1\n",
       "CT          1\n",
       "Name: VENDOR_STATE_PROVINCE, Length: 132, dtype: int64"
      ]
     },
     "execution_count": 12,
     "metadata": {},
     "output_type": "execute_result"
    }
   ],
   "source": [
    "bill[\"VENDOR_STATE_PROVINCE\"].value_counts()"
   ]
  },
  {
   "cell_type": "code",
   "execution_count": 10,
   "metadata": {
    "collapsed": true
   },
   "outputs": [
    {
     "data": {
      "text/plain": [
       "Book Stores                                           24198\n",
       "Stationery, Office & School Supply Stores             22884\n",
       "Stationery,Office Supplies,Printing/Writing Paper     16396\n",
       "Business Services Not Elsewhere Classified            15098\n",
       "BOOK STORES                                           14533\n",
       "Local/Suburban Commuter Transportation                14522\n",
       "Computers,Computer Peripheral Equipment, Software      9722\n",
       "Charitable And Social Service Organizations            8200\n",
       "Membership Organizations, Not Elsewhere Classified     7777\n",
       "Educational Services, Not Elsewhere Classified         7722\n",
       "Specialty Retail Stores-Miscellaneous                  7433\n",
       "Government Services, Not Elsewhere Classified          6674\n",
       "Industrial Supplies, Not Elsewhere Classified          6424\n",
       "Professional Services Not Elsewhere Classified         6083\n",
       "Direct Marketing-Not Elsewhere Classified              6082\n",
       "Home Supply Warehouse Stores                           5762\n",
       "Direct Marketing - Comb. Catalog &Retail Merchants     5718\n",
       "Computer Software Stores                               5206\n",
       "Miscellaneous Publishing And Printing                  4952\n",
       "Courier Services-Air Or Ground, Freight Forwarders     4873\n",
       "Direct Marketing - Catalog Merchants                   4812\n",
       "Lab,Medical,Dental,Opthalmic,Hosp Equip & Supplies     4546\n",
       "Electronic Sales                                       4393\n",
       "Commercial Equipment, Not Elsewhere Classified         4383\n",
       "TRANSPRTN-SUBRBN + LOCAL COMTR PSNGR  INCL FERRIES     4307\n",
       "Office,Photographic,Photocopy,and Microfilm Equip      4273\n",
       "Cable and Other Pay Television                         3875\n",
       "BUSINESS SERVICES-NOT ELSEWHERE CLASSIFIED             3842\n",
       "Direct Marketing-Continuity/Subscription Merchants     3800\n",
       "COMMERCIAL EQUIPMENT  NOT ELSEWHERE CLASSIFIED         3692\n",
       "                                                      ...  \n",
       "Tax Payments                                              1\n",
       "Sun Country Airlines                                      1\n",
       "Wyndham                                                   1\n",
       "THRIFTY CAR RENTAL                                        1\n",
       "Nursing & Personal Care Facilities                        1\n",
       "EMIRATES AIRLINES (ABBR. EMIRATES)                        1\n",
       "Iberia                                                    1\n",
       "Menzies Hotel (sydney)                                    1\n",
       "FUNERAL SERVICE AND CREMATORIES                           1\n",
       "Hotels Agrupados                                          1\n",
       "CHILD CARE SERVICES                                       1\n",
       "MERIDIEN HOTELS                                           1\n",
       "ADVANTAGE RENT A CAR                                      1\n",
       "NEMACOLIN WOODSLANDS                                      1\n",
       "JAPAN AIR LINES                                           1\n",
       "Knights Inns                                              1\n",
       "Billiard And Pool Establishments                          1\n",
       "JOHN ASCUAGA'S NUGGET                                     1\n",
       "ICELANDAIR                                                1\n",
       "THY (TURKEY)                                              1\n",
       "HOTELS MELIA                                              1\n",
       "Wig And Toupee Stores                                     1\n",
       "GOLDEN NUGGET                                             1\n",
       "Payless Car Rental                                        1\n",
       "DIGITAL GOODS ? MULTI-CATEGORY                            1\n",
       "LAUNDRY SERVICES - FAMILY AND COMMERICAL                  1\n",
       "Cleaning- Laundry & Garment Services                      1\n",
       "Korean Airlines                                           1\n",
       "Financial Institutions - Manual Cash Disbursements        1\n",
       "Homestead Suites                                          1\n",
       "Name: MCC_DESCRIPTION, Length: 740, dtype: int64"
      ]
     },
     "execution_count": 10,
     "metadata": {},
     "output_type": "execute_result"
    }
   ],
   "source": [
    "bill[\"MCC_DESCRIPTION\"].value_counts()"
   ]
  },
  {
   "cell_type": "code",
   "execution_count": 19,
   "metadata": {
    "collapsed": true
   },
   "outputs": [
    {
     "data": {
      "text/plain": [
       "<matplotlib.axes._subplots.AxesSubplot at 0x12122e6a5f8>"
      ]
     },
     "execution_count": 19,
     "metadata": {},
     "output_type": "execute_result"
    },
    {
     "data": {
      "image/png": "[encoded data removed]",
      "text/plain": [
       "<Figure size 1440x1080 with 1 Axes>"
      ]
     },
     "metadata": {
      "needs_background": "light"
     },
     "output_type": "display_data"
    }
   ],
   "source": [
    "%matplotlib inline\n",
    "bill['TRANSACTION_AMOUNT'].hist(bins = 2000, figsize=(20,15))"
   ]
  },
  {
   "cell_type": "code",
   "execution_count": 22,
   "metadata": {},
   "outputs": [],
   "source": [
    "from sklearn.model_selection import train_test_split\n",
    "train_set, test_set = train_test_split(bill, test_size=0.2, random_state=42)"
   ]
  }
 ],
 "metadata": {
  "kernelspec": {
   "display_name": "Python 3",
   "language": "python",
   "name": "python3"
  },
  "language_info": {
   "codemirror_mode": {
    "name": "ipython",
    "version": 3
   },
   "file_extension": ".py",
   "mimetype": "text/x-python",
   "name": "python",
   "nbconvert_exporter": "python",
   "pygments_lexer": "ipython3",
   "version": "3.7.1"
  }
 },
 "nbformat": 4,
 "nbformat_minor": 2
}
