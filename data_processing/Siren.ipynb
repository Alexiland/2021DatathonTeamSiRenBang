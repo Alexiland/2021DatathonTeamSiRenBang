{
 "cells": [
  {
   "cell_type": "code",
   "execution_count": 3,
   "metadata": {},
   "outputs": [],
   "source": [
    "import numpy as np\n",
    "import pandas as pd\n",
    "import matplotlib.pyplot as plt\n",
    "import hashlib"
   ]
  },
  {
   "cell_type": "code",
   "execution_count": 4,
   "metadata": {},
   "outputs": [],
   "source": [
    "def load_bill_data():\n",
    "    path = \"Purchase_Card_Transactions.csv\"\n",
    "    return pd.read_csv(path)"
   ]
  },
  {
   "cell_type": "code",
   "execution_count": 5,
   "metadata": {},
   "outputs": [
    {
     "data": {
      "text/html": [
       "<div>\n",
       "<style scoped>\n",
       "    .dataframe tbody tr th:only-of-type {\n",
       "        vertical-align: middle;\n",
       "    }\n",
       "\n",
       "    .dataframe tbody tr th {\n",
       "        vertical-align: top;\n",
       "    }\n",
       "\n",
       "    .dataframe thead th {\n",
       "        text-align: right;\n",
       "    }\n",
       "</style>\n",
       "<table border=\"1\" class=\"dataframe\">\n",
       "  <thead>\n",
       "    <tr style=\"text-align: right;\">\n",
       "      <th></th>\n",
       "      <th>OBJECTID</th>\n",
       "      <th>AGENCY</th>\n",
       "      <th>TRANSACTION_DATE</th>\n",
       "      <th>TRANSACTION_AMOUNT</th>\n",
       "      <th>VENDOR_NAME</th>\n",
       "      <th>VENDOR_STATE_PROVINCE</th>\n",
       "      <th>MCC_DESCRIPTION</th>\n",
       "    </tr>\n",
       "  </thead>\n",
       "  <tbody>\n",
       "    <tr>\n",
       "      <th>0</th>\n",
       "      <td>2</td>\n",
       "      <td>Department of Mental Health</td>\n",
       "      <td>2009/01/05 05:00:00+00</td>\n",
       "      <td>229.50</td>\n",
       "      <td>WW GRAINGER 912</td>\n",
       "      <td>DC</td>\n",
       "      <td>Industrial Supplies, Not Elsewhere Classified</td>\n",
       "    </tr>\n",
       "    <tr>\n",
       "      <th>1</th>\n",
       "      <td>3</td>\n",
       "      <td>District Department of Transportation</td>\n",
       "      <td>2009/01/05 05:00:00+00</td>\n",
       "      <td>3147.33</td>\n",
       "      <td>BRANCH SUPPLY</td>\n",
       "      <td>DC</td>\n",
       "      <td>Stationery, Office &amp; School Supply Stores</td>\n",
       "    </tr>\n",
       "    <tr>\n",
       "      <th>2</th>\n",
       "      <td>4</td>\n",
       "      <td>Department of  Youth Rehabilitation Services</td>\n",
       "      <td>2009/01/05 05:00:00+00</td>\n",
       "      <td>54.00</td>\n",
       "      <td>VIDEO MONITORING SRVCS</td>\n",
       "      <td>NY</td>\n",
       "      <td>Motion Pictures/Video Tape Production&amp;Distribu...</td>\n",
       "    </tr>\n",
       "    <tr>\n",
       "      <th>3</th>\n",
       "      <td>5</td>\n",
       "      <td>Office of Employee Appeals</td>\n",
       "      <td>2009/01/05 05:00:00+00</td>\n",
       "      <td>137.35</td>\n",
       "      <td>STAPLES       00102186</td>\n",
       "      <td>DC</td>\n",
       "      <td>Stationery,Office Supplies,Printing/Writing Paper</td>\n",
       "    </tr>\n",
       "    <tr>\n",
       "      <th>4</th>\n",
       "      <td>6</td>\n",
       "      <td>Office of Police Complaints</td>\n",
       "      <td>2009/01/06 05:00:00+00</td>\n",
       "      <td>1340.80</td>\n",
       "      <td>FAITH MGMT CONSULTING</td>\n",
       "      <td>DC</td>\n",
       "      <td>Stationery, Office &amp; School Supply Stores</td>\n",
       "    </tr>\n",
       "  </tbody>\n",
       "</table>\n",
       "</div>"
      ],
      "text/plain": [
       "   OBJECTID                                        AGENCY  \\\n",
       "0         2                   Department of Mental Health   \n",
       "1         3         District Department of Transportation   \n",
       "2         4  Department of  Youth Rehabilitation Services   \n",
       "3         5                    Office of Employee Appeals   \n",
       "4         6                   Office of Police Complaints   \n",
       "\n",
       "         TRANSACTION_DATE  TRANSACTION_AMOUNT             VENDOR_NAME  \\\n",
       "0  2009/01/05 05:00:00+00              229.50         WW GRAINGER 912   \n",
       "1  2009/01/05 05:00:00+00             3147.33           BRANCH SUPPLY   \n",
       "2  2009/01/05 05:00:00+00               54.00  VIDEO MONITORING SRVCS   \n",
       "3  2009/01/05 05:00:00+00              137.35  STAPLES       00102186   \n",
       "4  2009/01/06 05:00:00+00             1340.80   FAITH MGMT CONSULTING   \n",
       "\n",
       "  VENDOR_STATE_PROVINCE                                    MCC_DESCRIPTION  \n",
       "0                    DC      Industrial Supplies, Not Elsewhere Classified  \n",
       "1                    DC          Stationery, Office & School Supply Stores  \n",
       "2                    NY  Motion Pictures/Video Tape Production&Distribu...  \n",
       "3                    DC  Stationery,Office Supplies,Printing/Writing Paper  \n",
       "4                    DC          Stationery, Office & School Supply Stores  "
      ]
     },
     "execution_count": 5,
     "metadata": {},
     "output_type": "execute_result"
    }
   ],
   "source": [
    "bill = load_bill_data()\n",
    "bill.head()"
   ]
  },
  {
   "cell_type": "code",
   "execution_count": 6,
   "metadata": {},
   "outputs": [
    {
     "name": "stdout",
     "output_type": "stream",
     "text": [
      "<class 'pandas.core.frame.DataFrame'>\n",
      "RangeIndex: 433926 entries, 0 to 433925\n",
      "Data columns (total 7 columns):\n",
      "OBJECTID                 433926 non-null int64\n",
      "AGENCY                   433926 non-null object\n",
      "TRANSACTION_DATE         433926 non-null object\n",
      "TRANSACTION_AMOUNT       433926 non-null float64\n",
      "VENDOR_NAME              433887 non-null object\n",
      "VENDOR_STATE_PROVINCE    432623 non-null object\n",
      "MCC_DESCRIPTION          433908 non-null object\n",
      "dtypes: float64(1), int64(1), object(5)\n",
      "memory usage: 23.2+ MB\n"
     ]
    }
   ],
   "source": [
    "bill.info()"
   ]
  },
  {
   "cell_type": "code",
   "execution_count": 52,
   "metadata": {},
   "outputs": [
    {
     "data": {
      "text/plain": [
       "Fire & Emergency Medical Services               5\n",
       "District Department of Transportation           1\n",
       "Department of Mental Health                     1\n",
       "Office of Employee Appeals                      1\n",
       "Department of  Youth Rehabilitation Services    1\n",
       "Office of Police Complaints                     1\n",
       "Name: AGENCY, dtype: int64"
      ]
     },
     "execution_count": 52,
     "metadata": {},
     "output_type": "execute_result"
    }
   ],
   "source": [
    "bill[\"AGENCY\"].value_counts()"
   ]
  },
  {
   "cell_type": "code",
   "execution_count": 8,
   "metadata": {
    "collapsed": true
   },
   "outputs": [
    {
     "data": {
      "text/plain": [
       "STANDARD OFFICE SUPPLY      17075\n",
       "AMAZON MKTPLACE PMTS        14699\n",
       "METRO FARE AUTOLOAD         12622\n",
       "AMZN MKTP US                 9542\n",
       "AMAZON.COM                   8485\n",
       "METROPOLITAN OFFICE PR       7076\n",
       "OFFICE DEPOT #5910           6256\n",
       "THE HOME DEPOT #2583         4069\n",
       "CAPITAL SERVICES AND S       3843\n",
       "LASER ART INC                3260\n",
       "PAYPAL                       3202\n",
       "CAPITAL SERVICES & SUP       3071\n",
       "WW GRAINGER                  3046\n",
       "SENODA INC                   2538\n",
       "COMCAST OF WASHINGTON        2257\n",
       "AMERICAN AIRLINES            2249\n",
       "COMCAST                      2030\n",
       "SOUTHWEST                    1924\n",
       "STAPLES DIRECT               1876\n",
       "AMERICAN BUSINESS SUPP       1763\n",
       "DMI* DELL K-12/GOVT          1424\n",
       "STAPLES       00102186       1422\n",
       "CDW GOVERNMENT               1418\n",
       "NBA OFFICE PRODUCTS, I       1386\n",
       "AOP BUSINESS SERVICES        1301\n",
       "THOMSON WEST*TCD             1277\n",
       "MVS INC                      1277\n",
       "U.S. OFFICE SOLUTIONS        1246\n",
       "DC BAR                       1194\n",
       "THE HAMILTON GROUP           1189\n",
       "                            ...  \n",
       "AIRTRANAI 33201052710420        1\n",
       "EXPEDIA 7427802808411           1\n",
       "SAFEWAY  STORE00048736          1\n",
       "AMERICAN  00176912810863        1\n",
       "AIRTRANAI 33200607686280        1\n",
       "OIL PRICE INFO SERV             1\n",
       "WASH METRO    00086306          1\n",
       "DELTA     00623007587613        1\n",
       "CONSTBK*1013386208              1\n",
       "BALLOON BUNCHES INC.            1\n",
       "LEHIGH BURSARS OFFICE           1\n",
       "TOWING & RECOVERY AQPS          1\n",
       "UNITED    01678345577296        1\n",
       "WSHPOST*9162REQUEST FO          1\n",
       "AMTRAK .CO0778115020654         1\n",
       "SOUTHWES  5262154454957         1\n",
       "FACEBK BV43DMNSV2               1\n",
       "FEDEX 797233206437              1\n",
       "USAIRWAY  03723555358644        1\n",
       "TEACHING STRATEGIES,LL          1\n",
       "AMAZON.COM*ZL8FX8NE3            1\n",
       "ACT*LINKEDIN TALENT CO          1\n",
       "OPC*LEBANON VALLEY T&F          1\n",
       "FEDEX 801117875614              1\n",
       "ACT*PPRC REGISTRATION           1\n",
       "USPS 1049789556    QQQ          1\n",
       "OTIS SPUNKMEYER INC             1\n",
       "SAWC SPRING                     1\n",
       "PAYPAL *SPANISHTUTO             1\n",
       "EB ROBERT BORKENSTEIN           1\n",
       "Name: VENDOR_NAME, Length: 55558, dtype: int64"
      ]
     },
     "execution_count": 8,
     "metadata": {},
     "output_type": "execute_result"
    }
   ],
   "source": [
    "bill[\"VENDOR_NAME\"].value_counts()"
   ]
  },
  {
   "cell_type": "code",
   "execution_count": 9,
   "metadata": {
    "collapsed": true
   },
   "outputs": [
    {
     "data": {
      "text/plain": [
       "DC     152192\n",
       "MD      54022\n",
       "WA      41166\n",
       "CA      30442\n",
       "VA      23184\n",
       "TX      14160\n",
       "IL      13715\n",
       "PA      12998\n",
       "NY       9010\n",
       "GA       7421\n",
       "MA       7112\n",
       "TN       7010\n",
       "FL       6536\n",
       "MN       5403\n",
       "OH       5260\n",
       "NJ       5012\n",
       "WI       4109\n",
       "CT       3960\n",
       "NC       3242\n",
       "MO       2702\n",
       "CO       2365\n",
       "KS       1883\n",
       "AZ       1875\n",
       "MI       1602\n",
       "NV       1602\n",
       "UT       1403\n",
       "IN       1347\n",
       "KY       1280\n",
       "NE       1141\n",
       "OR       1002\n",
       "        ...  \n",
       "NB          2\n",
       "QLD         2\n",
       "VA          2\n",
       "BEI         2\n",
       "D           2\n",
       "ARE         2\n",
       "CN          2\n",
       "ILS         2\n",
       "TX          2\n",
       "VIR         2\n",
       "ES          1\n",
       "MN          1\n",
       "NJ          1\n",
       "VN          1\n",
       "C           1\n",
       "IO          1\n",
       "CT          1\n",
       "ITA         1\n",
       "BGR         1\n",
       "280         1\n",
       "JO          1\n",
       "IND         1\n",
       "RUS         1\n",
       "MD          1\n",
       "SVN         1\n",
       "69          1\n",
       "PAN         1\n",
       "ZH          1\n",
       "PE          1\n",
       "ISL         1\n",
       "Name: VENDOR_STATE_PROVINCE, Length: 132, dtype: int64"
      ]
     },
     "execution_count": 9,
     "metadata": {},
     "output_type": "execute_result"
    }
   ],
   "source": [
    "bill[\"VENDOR_STATE_PROVINCE\"].value_counts()"
   ]
  },
  {
   "cell_type": "code",
   "execution_count": 10,
   "metadata": {
    "collapsed": true
   },
   "outputs": [
    {
     "data": {
      "text/plain": [
       "Book Stores                                           24198\n",
       "Stationery, Office & School Supply Stores             22884\n",
       "Stationery,Office Supplies,Printing/Writing Paper     16396\n",
       "Business Services Not Elsewhere Classified            15098\n",
       "BOOK STORES                                           14533\n",
       "Local/Suburban Commuter Transportation                14522\n",
       "Computers,Computer Peripheral Equipment, Software      9722\n",
       "Charitable And Social Service Organizations            8200\n",
       "Membership Organizations, Not Elsewhere Classified     7777\n",
       "Educational Services, Not Elsewhere Classified         7722\n",
       "Specialty Retail Stores-Miscellaneous                  7433\n",
       "Government Services, Not Elsewhere Classified          6674\n",
       "Industrial Supplies, Not Elsewhere Classified          6424\n",
       "Professional Services Not Elsewhere Classified         6083\n",
       "Direct Marketing-Not Elsewhere Classified              6082\n",
       "Home Supply Warehouse Stores                           5762\n",
       "Direct Marketing - Comb. Catalog &Retail Merchants     5718\n",
       "Computer Software Stores                               5206\n",
       "Miscellaneous Publishing And Printing                  4952\n",
       "Courier Services-Air Or Ground, Freight Forwarders     4873\n",
       "Direct Marketing - Catalog Merchants                   4812\n",
       "Lab,Medical,Dental,Opthalmic,Hosp Equip & Supplies     4546\n",
       "Electronic Sales                                       4393\n",
       "Commercial Equipment, Not Elsewhere Classified         4383\n",
       "TRANSPRTN-SUBRBN + LOCAL COMTR PSNGR  INCL FERRIES     4307\n",
       "Office,Photographic,Photocopy,and Microfilm Equip      4273\n",
       "Cable and Other Pay Television                         3875\n",
       "BUSINESS SERVICES-NOT ELSEWHERE CLASSIFIED             3842\n",
       "Direct Marketing-Continuity/Subscription Merchants     3800\n",
       "COMMERCIAL EQUIPMENT  NOT ELSEWHERE CLASSIFIED         3692\n",
       "                                                      ...  \n",
       "Tax Payments                                              1\n",
       "JAPAN AIR LINES                                           1\n",
       "THRIFTY CAR RENTAL                                        1\n",
       "DIGITAL GOODS ? MULTI-CATEGORY                            1\n",
       "PAINTS VARNISHES AND SUPPLIES                             1\n",
       "Four Seasons Hotel (Australia)                            1\n",
       "AUTOMOBILE AND TRUCK DEALERS-(USED ONLY)-SALES            1\n",
       "HOTELS MELIA                                              1\n",
       "AUSTRALIAN AIRWAYS (TAA)                                  1\n",
       "TIRE RETREADING AND REPAIR SHOPS                          1\n",
       "Hotels Agrupados                                          1\n",
       "THY (TURKEY)                                              1\n",
       "HAT CLEANING SHOPS  SHOE REPAIR SHOPS  SHOE SHINE         1\n",
       "Air France                                                1\n",
       "Financial Institutions - Manual Cash Disbursements        1\n",
       "Video Tape Rental Stores                                  1\n",
       "FUNERAL SERVICE AND CREMATORIES                           1\n",
       "VIDEO GAME ARCADES-ESTABLISHMENTS                         1\n",
       "CHILD CARE SERVICES                                       1\n",
       "Nursing & Personal Care Facilities                        1\n",
       "MEMBER-MERCHANDISE AND SERVICES                           1\n",
       "EMIRATES AIRLINES (ABBR. EMIRATES)                        1\n",
       "Hilton Internationals                                     1\n",
       "ICELANDAIR                                                1\n",
       "Payless Car Rental                                        1\n",
       "Bail And Bond Payments                                    1\n",
       "Cleaning- Laundry & Garment Services                      1\n",
       "Airports, Airport Terminals, Flying Fields                1\n",
       "LAUNDRY SERVICES - FAMILY AND COMMERICAL                  1\n",
       "ADVANTAGE RENT A CAR                                      1\n",
       "Name: MCC_DESCRIPTION, Length: 740, dtype: int64"
      ]
     },
     "execution_count": 10,
     "metadata": {},
     "output_type": "execute_result"
    }
   ],
   "source": [
    "bill[\"MCC_DESCRIPTION\"].value_counts()"
   ]
  },
  {
   "cell_type": "code",
   "execution_count": 51,
   "metadata": {
    "scrolled": false
   },
   "outputs": [],
   "source": [
    "%matplotlib inline\n",
    "# bill['TRANSACTION_AMOUNT'].hist(bins = 3, figsize=(20,15))"
   ]
  },
  {
   "cell_type": "code",
   "execution_count": 48,
   "metadata": {
    "scrolled": true
   },
   "outputs": [
    {
     "name": "stdout",
     "output_type": "stream",
     "text": [
      "<class 'pandas.core.frame.DataFrame'>\n",
      "Int64Index: 346098 entries, 268261 to 122177\n",
      "Data columns (total 7 columns):\n",
      "OBJECTID                 346098 non-null int64\n",
      "AGENCY                   346098 non-null object\n",
      "TRANSACTION_DATE         346098 non-null object\n",
      "TRANSACTION_AMOUNT       346098 non-null float64\n",
      "VENDOR_NAME              346098 non-null object\n",
      "VENDOR_STATE_PROVINCE    346098 non-null object\n",
      "MCC_DESCRIPTION          346098 non-null object\n",
      "dtypes: float64(1), int64(1), object(5)\n",
      "memory usage: 21.1+ MB\n"
     ]
    }
   ],
   "source": [
    "from sklearn.model_selection import train_test_split\n",
    "drop_bill = bill.dropna(subset=['VENDOR_NAME', \"VENDOR_STATE_PROVINCE\"])\n",
    "train_set, test_set = train_test_split(drop_bill, test_size=0.2, random_state=42)\n",
    "\n",
    "billing_drop_min = train_set.groupby('VENDOR_NAME').filter(lambda x : len(x)>4)\n",
    "\n",
    "billing = billing_drop_min.drop(\"TRANSACTION_AMOUNT\", axis = 1)\n",
    "\n",
    "billing_labels = billing_drop_min[\"TRANSACTION_AMOUNT\"].copy()\n",
    "\n",
    "train_set.info()"
   ]
  },
  {
   "cell_type": "code",
   "execution_count": 49,
   "metadata": {
    "scrolled": true
   },
   "outputs": [
    {
     "name": "stdout",
     "output_type": "stream",
     "text": [
      "<class 'pandas.core.frame.DataFrame'>\n",
      "Int64Index: 288541 entries, 268261 to 122177\n",
      "Data columns (total 6 columns):\n",
      "OBJECTID                 288541 non-null int64\n",
      "AGENCY                   288541 non-null object\n",
      "TRANSACTION_DATE         288541 non-null object\n",
      "VENDOR_NAME              288541 non-null object\n",
      "VENDOR_STATE_PROVINCE    288541 non-null object\n",
      "MCC_DESCRIPTION          288541 non-null object\n",
      "dtypes: int64(1), object(5)\n",
      "memory usage: 15.4+ MB\n"
     ]
    }
   ],
   "source": [
    "billing.info()"
   ]
  },
  {
   "cell_type": "code",
   "execution_count": null,
   "metadata": {},
   "outputs": [],
   "source": [
    "# =============================  Begins Visualizations ======================================================\n"
   ]
  },
  {
   "cell_type": "code",
   "execution_count": null,
   "metadata": {},
   "outputs": [],
   "source": [
    "# =========================== Define transformer for date transformation =====================================\n",
    "from sklearn.base import BaseEstimator, TransformerMixin\n",
    "\n",
    "date_ix = 2\n",
    "\n",
    "class DateTransformer(BaseEstimator, TransformerMixin):\n",
    "    \n",
    "    def fit(self, X, y=None):\n",
    "        return self\n",
    "    def transform(self, X, y=None):\n",
    "        date_col = X[:, date_ix]\n",
    "        "
   ]
  },
  {
   "cell_type": "code",
   "execution_count": 42,
   "metadata": {},
   "outputs": [],
   "source": [
    "# =========================================Need a pipeline for preprocessing======================================\n",
    "from sklearn.preprocessing import LabelBinarizer\n",
    "from sklearn.pipeline import Pipeline, FeatureUnion\n",
    "from sklearn.preprocessing import StandardScaler\n",
    "\n",
    "num_pipe = Pipeline([\n",
    "    ('std_scaler', StandardScaler())\n",
    "])\n",
    "\n",
    "cat_pipe = Pipeline([\n",
    "    ('onehot', LabelBinarizer())\n",
    "])\n",
    "\n",
    "full_pipe = FeatureUnion(transformer_list=[\n",
    "    (\"num_pipe\", num_pipe),\n",
    "    (\"cat_pipe\", cat_pipe)\n",
    "])"
   ]
  }
 ],
 "metadata": {
  "kernelspec": {
   "display_name": "Python 3",
   "language": "python",
   "name": "python3"
  },
  "language_info": {
   "codemirror_mode": {
    "name": "ipython",
    "version": 3
   },
   "file_extension": ".py",
   "mimetype": "text/x-python",
   "name": "python",
   "nbconvert_exporter": "python",
   "pygments_lexer": "ipython3",
   "version": "3.7.1"
  }
 },
 "nbformat": 4,
 "nbformat_minor": 2
}
